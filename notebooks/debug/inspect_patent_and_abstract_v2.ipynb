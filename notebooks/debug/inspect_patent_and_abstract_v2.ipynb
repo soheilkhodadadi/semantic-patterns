{
 "cells": [
  {
   "cell_type": "markdown",
   "id": "f71aa65a",
   "metadata": {},
   "source": [
    "# 🧪 Inspect PatentsView Files: `patent.tsv` and `patent_abstract.tsv`\n",
    "This notebook loads just the header and select rows from the large files to avoid delays."
   ]
  },
  {
   "cell_type": "code",
   "execution_count": 1,
   "id": "b3161dd8",
   "metadata": {},
   "outputs": [],
   "source": [
    "import pandas as pd\n",
    "import os\n",
    "\n",
    "# Set working directory to project root\n",
    "os.chdir(\"/Users/soheilkhodadadi/Documents/Projects/semantic-patterns\")\n",
    "\n",
    "# File paths\n",
    "patent_path = \"data/raw/patents/patentsview/patent.tsv\"\n",
    "abstract_path = \"data/raw/patents/patentsview/patent_abstract.tsv\"\n"
   ]
  },
  {
   "cell_type": "markdown",
   "id": "24ef42dc",
   "metadata": {},
   "source": [
    "## 📄 Quickly Load `patent.tsv` Header"
   ]
  },
  {
   "cell_type": "code",
   "execution_count": 2,
   "id": "c8e6fee0",
   "metadata": {},
   "outputs": [
    {
     "name": "stdout",
     "output_type": "stream",
     "text": [
      "✅ Columns in patent.tsv:\n",
      "['patent_id', 'patent_type', 'patent_date', 'patent_title', 'wipo_kind', 'num_claims', 'withdrawn', 'filename']\n"
     ]
    }
   ],
   "source": [
    "# Load only column names (no data)\n",
    "cols = pd.read_csv(patent_path, sep=\"\\t\", nrows=0)\n",
    "print(\"✅ Columns in patent.tsv:\")\n",
    "print(cols.columns.tolist())"
   ]
  },
  {
   "cell_type": "markdown",
   "id": "078db4fa",
   "metadata": {},
   "source": [
    "## 🔍 View Sample Rows with Selected Columns"
   ]
  },
  {
   "cell_type": "code",
   "execution_count": null,
   "id": "745e3291",
   "metadata": {},
   "outputs": [],
   "source": [
    "# Load just a couple columns and a few rows\n",
    "df_patent = pd.read_csv(patent_path, sep=\"\\t\", usecols=[\"patent_id\", \"patent_date\"], nrows=5)\n",
    "df_patent.head()"
   ]
  },
  {
   "cell_type": "markdown",
   "id": "d3b9b885",
   "metadata": {},
   "source": [
    "## 📄 Quickly Load `patent_abstract.tsv` Header"
   ]
  },
  {
   "cell_type": "code",
   "execution_count": 3,
   "id": "8a97cedf",
   "metadata": {},
   "outputs": [
    {
     "name": "stdout",
     "output_type": "stream",
     "text": [
      "✅ Columns in patent_abstract.tsv:\n",
      "['patent_id', 'patent_abstract']\n"
     ]
    }
   ],
   "source": [
    "cols_abs = pd.read_csv(abstract_path, sep=\"\\t\", nrows=0)\n",
    "print(\"✅ Columns in patent_abstract.tsv:\")\n",
    "print(cols_abs.columns.tolist())"
   ]
  },
  {
   "cell_type": "code",
   "execution_count": null,
   "id": "637d3107",
   "metadata": {},
   "outputs": [],
   "source": [
    "# Preview a few rows\n",
    "df_abstract = pd.read_csv(abstract_path, sep=\"\\t\", usecols=[\"patent_id\", \"abstract\"], nrows=5)\n",
    "df_abstract.head()"
   ]
  }
 ],
 "metadata": {
  "kernelspec": {
   "display_name": "venv",
   "language": "python",
   "name": "python3"
  },
  "language_info": {
   "codemirror_mode": {
    "name": "ipython",
    "version": 3
   },
   "file_extension": ".py",
   "mimetype": "text/x-python",
   "name": "python",
   "nbconvert_exporter": "python",
   "pygments_lexer": "ipython3",
   "version": "3.9.6"
  }
 },
 "nbformat": 4,
 "nbformat_minor": 5
}
