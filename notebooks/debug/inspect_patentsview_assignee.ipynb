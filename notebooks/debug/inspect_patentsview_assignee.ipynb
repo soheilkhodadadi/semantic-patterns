{
 "cells": [
  {
   "cell_type": "markdown",
   "id": "b30d8c36",
   "metadata": {},
   "source": [
    "# 🧪 Inspect PatentsView File: `patent_assignee.tsv`\n",
    "This notebook loads and inspects the structure of the `patent_assignee.tsv` file to help diagnose column names and values."
   ]
  },
  {
   "cell_type": "code",
   "execution_count": 2,
   "id": "705cb391",
   "metadata": {},
   "outputs": [
    {
     "name": "stdout",
     "output_type": "stream",
     "text": [
      "✅ Columns in file:\n",
      "['patent_id', 'assignee_sequence', 'assignee_id', 'disambig_assignee_individual_name_first', 'disambig_assignee_individual_name_last', 'disambig_assignee_organization', 'assignee_type', 'location_id']\n"
     ]
    },
    {
     "data": {
      "text/html": [
       "<div>\n",
       "<style scoped>\n",
       "    .dataframe tbody tr th:only-of-type {\n",
       "        vertical-align: middle;\n",
       "    }\n",
       "\n",
       "    .dataframe tbody tr th {\n",
       "        vertical-align: top;\n",
       "    }\n",
       "\n",
       "    .dataframe thead th {\n",
       "        text-align: right;\n",
       "    }\n",
       "</style>\n",
       "<table border=\"1\" class=\"dataframe\">\n",
       "  <thead>\n",
       "    <tr style=\"text-align: right;\">\n",
       "      <th></th>\n",
       "      <th>patent_id</th>\n",
       "      <th>assignee_sequence</th>\n",
       "      <th>assignee_id</th>\n",
       "      <th>disambig_assignee_individual_name_first</th>\n",
       "      <th>disambig_assignee_individual_name_last</th>\n",
       "      <th>disambig_assignee_organization</th>\n",
       "      <th>assignee_type</th>\n",
       "      <th>location_id</th>\n",
       "    </tr>\n",
       "  </thead>\n",
       "  <tbody>\n",
       "    <tr>\n",
       "      <th>0</th>\n",
       "      <td>4488683</td>\n",
       "      <td>0</td>\n",
       "      <td>b12aba35-6fdd-4346-b7c0-8c7a157c8844</td>\n",
       "      <td>NaN</td>\n",
       "      <td>NaN</td>\n",
       "      <td>Metal Works Ramat David</td>\n",
       "      <td>3</td>\n",
       "      <td>50dc5d46-16c8-11ed-9b5f-1234bde3cd05</td>\n",
       "    </tr>\n",
       "    <tr>\n",
       "      <th>1</th>\n",
       "      <td>11872626</td>\n",
       "      <td>0</td>\n",
       "      <td>ee0744f6-d2d4-46f4-8be7-2758e096a6a9</td>\n",
       "      <td>NaN</td>\n",
       "      <td>NaN</td>\n",
       "      <td>DIVERGENT TECHNOLOGIES, INC.</td>\n",
       "      <td>2</td>\n",
       "      <td>15c69712-16c8-11ed-9b5f-1234bde3cd05</td>\n",
       "    </tr>\n",
       "    <tr>\n",
       "      <th>2</th>\n",
       "      <td>5856666</td>\n",
       "      <td>0</td>\n",
       "      <td>79f3a1f8-bf1c-41d5-ba18-4f8e7041ebe9</td>\n",
       "      <td>NaN</td>\n",
       "      <td>NaN</td>\n",
       "      <td>U.S. Philips Corporation</td>\n",
       "      <td>2</td>\n",
       "      <td>92237ca2-16c8-11ed-9b5f-1234bde3cd05</td>\n",
       "    </tr>\n",
       "    <tr>\n",
       "      <th>3</th>\n",
       "      <td>5204210</td>\n",
       "      <td>0</td>\n",
       "      <td>a950758a-0188-4b59-8d8f-2c1a23d0d201</td>\n",
       "      <td>NaN</td>\n",
       "      <td>NaN</td>\n",
       "      <td>Xerox Corporation</td>\n",
       "      <td>2</td>\n",
       "      <td>0cd1998f-16c8-11ed-9b5f-1234bde3cd05</td>\n",
       "    </tr>\n",
       "    <tr>\n",
       "      <th>4</th>\n",
       "      <td>5302149</td>\n",
       "      <td>1</td>\n",
       "      <td>75d7db10-e04f-434c-afb4-c72688ea244b</td>\n",
       "      <td>NaN</td>\n",
       "      <td>NaN</td>\n",
       "      <td>COMMONWEALTH SCIENTIFIC AND INDUSTRIAL RESEARC...</td>\n",
       "      <td>7</td>\n",
       "      <td>4d36742f-16c8-11ed-9b5f-1234bde3cd05</td>\n",
       "    </tr>\n",
       "  </tbody>\n",
       "</table>\n",
       "</div>"
      ],
      "text/plain": [
       "   patent_id  assignee_sequence                           assignee_id  \\\n",
       "0    4488683                  0  b12aba35-6fdd-4346-b7c0-8c7a157c8844   \n",
       "1   11872626                  0  ee0744f6-d2d4-46f4-8be7-2758e096a6a9   \n",
       "2    5856666                  0  79f3a1f8-bf1c-41d5-ba18-4f8e7041ebe9   \n",
       "3    5204210                  0  a950758a-0188-4b59-8d8f-2c1a23d0d201   \n",
       "4    5302149                  1  75d7db10-e04f-434c-afb4-c72688ea244b   \n",
       "\n",
       "   disambig_assignee_individual_name_first  \\\n",
       "0                                      NaN   \n",
       "1                                      NaN   \n",
       "2                                      NaN   \n",
       "3                                      NaN   \n",
       "4                                      NaN   \n",
       "\n",
       "   disambig_assignee_individual_name_last  \\\n",
       "0                                     NaN   \n",
       "1                                     NaN   \n",
       "2                                     NaN   \n",
       "3                                     NaN   \n",
       "4                                     NaN   \n",
       "\n",
       "                      disambig_assignee_organization  assignee_type  \\\n",
       "0                            Metal Works Ramat David              3   \n",
       "1                       DIVERGENT TECHNOLOGIES, INC.              2   \n",
       "2                           U.S. Philips Corporation              2   \n",
       "3                                  Xerox Corporation              2   \n",
       "4  COMMONWEALTH SCIENTIFIC AND INDUSTRIAL RESEARC...              7   \n",
       "\n",
       "                            location_id  \n",
       "0  50dc5d46-16c8-11ed-9b5f-1234bde3cd05  \n",
       "1  15c69712-16c8-11ed-9b5f-1234bde3cd05  \n",
       "2  92237ca2-16c8-11ed-9b5f-1234bde3cd05  \n",
       "3  0cd1998f-16c8-11ed-9b5f-1234bde3cd05  \n",
       "4  4d36742f-16c8-11ed-9b5f-1234bde3cd05  "
      ]
     },
     "execution_count": 2,
     "metadata": {},
     "output_type": "execute_result"
    }
   ],
   "source": [
    "import pandas as pd\n",
    "import os\n",
    "os.chdir(\"/Users/soheilkhodadadi/Documents/Projects/semantic-patterns\")\n",
    "# Path to the file to inspect\n",
    "file_path = \"data/raw/patents/patentsview/patent_assignee.tsv\"\n",
    "\n",
    "# Read the first few rows\n",
    "df = pd.read_csv(file_path, sep=\"\\t\", nrows=5)\n",
    "print(\"✅ Columns in file:\")\n",
    "print(df.columns.tolist())\n",
    "df.head()"
   ]
  },
  {
   "cell_type": "markdown",
   "id": "074ff90f",
   "metadata": {},
   "source": [
    "## 📊 Column Overview and Null Check"
   ]
  },
  {
   "cell_type": "code",
   "execution_count": 3,
   "id": "6dcceead",
   "metadata": {},
   "outputs": [
    {
     "name": "stdout",
     "output_type": "stream",
     "text": [
      "<class 'pandas.core.frame.DataFrame'>\n",
      "RangeIndex: 5 entries, 0 to 4\n",
      "Data columns (total 8 columns):\n",
      " #   Column                                   Non-Null Count  Dtype  \n",
      "---  ------                                   --------------  -----  \n",
      " 0   patent_id                                5 non-null      int64  \n",
      " 1   assignee_sequence                        5 non-null      int64  \n",
      " 2   assignee_id                              5 non-null      object \n",
      " 3   disambig_assignee_individual_name_first  0 non-null      float64\n",
      " 4   disambig_assignee_individual_name_last   0 non-null      float64\n",
      " 5   disambig_assignee_organization           5 non-null      object \n",
      " 6   assignee_type                            5 non-null      int64  \n",
      " 7   location_id                              5 non-null      object \n",
      "dtypes: float64(2), int64(3), object(3)\n",
      "memory usage: 448.0+ bytes\n"
     ]
    },
    {
     "data": {
      "text/plain": [
       "patent_id                                  0\n",
       "assignee_sequence                          0\n",
       "assignee_id                                0\n",
       "disambig_assignee_individual_name_first    5\n",
       "disambig_assignee_individual_name_last     5\n",
       "disambig_assignee_organization             0\n",
       "assignee_type                              0\n",
       "location_id                                0\n",
       "dtype: int64"
      ]
     },
     "execution_count": 3,
     "metadata": {},
     "output_type": "execute_result"
    }
   ],
   "source": [
    "# View column types and null counts\n",
    "df.info()\n",
    "df.isnull().sum()"
   ]
  },
  {
   "cell_type": "markdown",
   "id": "33f74e35",
   "metadata": {},
   "source": [
    "## 🔍 Preview Sample Values by Column"
   ]
  },
  {
   "cell_type": "code",
   "execution_count": 4,
   "id": "f098e862",
   "metadata": {},
   "outputs": [
    {
     "name": "stdout",
     "output_type": "stream",
     "text": [
      "\n",
      "🔍 Sample values for column: patent_id\n",
      "[ 4488683 11872626  5856666  5204210  5302149]\n",
      "\n",
      "🔍 Sample values for column: assignee_sequence\n",
      "[0 1]\n",
      "\n",
      "🔍 Sample values for column: assignee_id\n",
      "['b12aba35-6fdd-4346-b7c0-8c7a157c8844'\n",
      " 'ee0744f6-d2d4-46f4-8be7-2758e096a6a9'\n",
      " '79f3a1f8-bf1c-41d5-ba18-4f8e7041ebe9'\n",
      " 'a950758a-0188-4b59-8d8f-2c1a23d0d201'\n",
      " '75d7db10-e04f-434c-afb4-c72688ea244b']\n",
      "\n",
      "🔍 Sample values for column: disambig_assignee_individual_name_first\n",
      "[]\n",
      "\n",
      "🔍 Sample values for column: disambig_assignee_individual_name_last\n",
      "[]\n",
      "\n",
      "🔍 Sample values for column: disambig_assignee_organization\n",
      "['Metal Works Ramat David' 'DIVERGENT TECHNOLOGIES, INC.'\n",
      " 'U.S. Philips Corporation' 'Xerox Corporation'\n",
      " 'COMMONWEALTH SCIENTIFIC AND INDUSTRIAL RESEARCH ORGANISATION']\n",
      "\n",
      "🔍 Sample values for column: assignee_type\n",
      "[3 2 7]\n",
      "\n",
      "🔍 Sample values for column: location_id\n",
      "['50dc5d46-16c8-11ed-9b5f-1234bde3cd05'\n",
      " '15c69712-16c8-11ed-9b5f-1234bde3cd05'\n",
      " '92237ca2-16c8-11ed-9b5f-1234bde3cd05'\n",
      " '0cd1998f-16c8-11ed-9b5f-1234bde3cd05'\n",
      " '4d36742f-16c8-11ed-9b5f-1234bde3cd05']\n"
     ]
    }
   ],
   "source": [
    "# Print sample values for each column\n",
    "for col in df.columns:\n",
    "    print(f\"\\n🔍 Sample values for column: {col}\")\n",
    "    print(df[col].dropna().unique()[:5])"
   ]
  },
  {
   "cell_type": "markdown",
   "id": "98be8a33",
   "metadata": {},
   "source": [
    "## ✅ Next Steps\n",
    "Use the output of this notebook to:\n",
    "- Confirm column names\n",
    "- Choose correct ones for `usecols` in your script\n",
    "- Optionally export cleaned sample rows if needed."
   ]
  }
 ],
 "metadata": {
  "kernelspec": {
   "display_name": "venv",
   "language": "python",
   "name": "python3"
  },
  "language_info": {
   "codemirror_mode": {
    "name": "ipython",
    "version": 3
   },
   "file_extension": ".py",
   "mimetype": "text/x-python",
   "name": "python",
   "nbconvert_exporter": "python",
   "pygments_lexer": "ipython3",
   "version": "3.9.6"
  }
 },
 "nbformat": 4,
 "nbformat_minor": 5
}
