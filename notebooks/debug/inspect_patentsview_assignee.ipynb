{
 "cells": [
  {
   "cell_type": "markdown",
   "id": "b30d8c36",
   "metadata": {},
   "source": [
    "# 🧪 Inspect PatentsView File: `patent_assignee.tsv`\n",
    "This notebook loads and inspects the structure of the `patent_assignee.tsv` file to help diagnose column names and values."
   ]
  },
  {
   "cell_type": "code",
   "execution_count": null,
   "id": "705cb391",
   "metadata": {},
   "outputs": [],
   "source": [
    "import pandas as pd\n",
    "import os\n",
    "\n",
    "# Path to the file to inspect\n",
    "file_path = \"data/raw/patents/patentsview/patent_assignee.tsv\"\n",
    "\n",
    "# Read the first few rows\n",
    "df = pd.read_csv(file_path, sep=\"\\t\", nrows=5)\n",
    "print(\"✅ Columns in file:\")\n",
    "print(df.columns.tolist())\n",
    "df.head()"
   ]
  },
  {
   "cell_type": "markdown",
   "id": "074ff90f",
   "metadata": {},
   "source": [
    "## 📊 Column Overview and Null Check"
   ]
  },
  {
   "cell_type": "code",
   "execution_count": null,
   "id": "6dcceead",
   "metadata": {},
   "outputs": [],
   "source": [
    "# View column types and null counts\n",
    "df.info()\n",
    "df.isnull().sum()"
   ]
  },
  {
   "cell_type": "markdown",
   "id": "33f74e35",
   "metadata": {},
   "source": [
    "## 🔍 Preview Sample Values by Column"
   ]
  },
  {
   "cell_type": "code",
   "execution_count": null,
   "id": "f098e862",
   "metadata": {},
   "outputs": [],
   "source": [
    "# Print sample values for each column\n",
    "for col in df.columns:\n",
    "    print(f\"\\n🔍 Sample values for column: {col}\")\n",
    "    print(df[col].dropna().unique()[:5])"
   ]
  },
  {
   "cell_type": "markdown",
   "id": "98be8a33",
   "metadata": {},
   "source": [
    "## ✅ Next Steps\n",
    "Use the output of this notebook to:\n",
    "- Confirm column names\n",
    "- Choose correct ones for `usecols` in your script\n",
    "- Optionally export cleaned sample rows if needed."
   ]
  }
 ],
 "metadata": {},
 "nbformat": 4,
 "nbformat_minor": 5
}
