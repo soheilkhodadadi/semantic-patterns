{
 "cells": [
  {
   "cell_type": "markdown",
   "id": "e41e52f9",
   "metadata": {},
   "source": [
    "# 🧪 Inspect PatentsView Files: `patent.tsv` and `patent_abstract.tsv`\n",
    "This notebook inspects the structure and sample content of both files to help determine usable fields."
   ]
  },
  {
   "cell_type": "code",
   "execution_count": 1,
   "id": "9905f12c",
   "metadata": {},
   "outputs": [],
   "source": [
    "import pandas as pd\n",
    "import os\n",
    "\n",
    "# Set working directory to project root if needed\n",
    "os.chdir(\"/Users/soheilkhodadadi/Documents/Projects/semantic-patterns\")\n",
    "\n",
    "# File paths\n",
    "patent_path = \"data/raw/patents/patentsview/patent.tsv\"\n",
    "abstract_path = \"data/raw/patents/patentsview/patent_abstract.tsv\"\n"
   ]
  },
  {
   "cell_type": "markdown",
   "id": "89b392b6",
   "metadata": {},
   "source": [
    "## 📄 Inspect `patent.tsv`"
   ]
  },
  {
   "cell_type": "code",
   "execution_count": null,
   "id": "fede5b36",
   "metadata": {},
   "outputs": [],
   "source": [
    "df_patent = pd.read_csv(patent_path, sep=\"\\t\", nrows=5)\n",
    "print(\"✅ Columns in patent.tsv:\")\n",
    "print(df_patent.columns.tolist())\n",
    "df_patent.head()"
   ]
  },
  {
   "cell_type": "markdown",
   "id": "439cb192",
   "metadata": {},
   "source": [
    "## 📄 Inspect `patent_abstract.tsv`"
   ]
  },
  {
   "cell_type": "code",
   "execution_count": null,
   "id": "faca3b83",
   "metadata": {},
   "outputs": [],
   "source": [
    "df_abstract = pd.read_csv(abstract_path, sep=\"\\t\", nrows=5)\n",
    "print(\"✅ Columns in patent_abstract.tsv:\")\n",
    "print(df_abstract.columns.tolist())\n",
    "df_abstract.head()"
   ]
  },
  {
   "cell_type": "markdown",
   "id": "8172f912",
   "metadata": {},
   "source": [
    "## 📊 Null Check and Data Types"
   ]
  },
  {
   "cell_type": "code",
   "execution_count": null,
   "id": "5dd583dc",
   "metadata": {},
   "outputs": [],
   "source": [
    "df_patent.info()\n",
    "df_abstract.info()"
   ]
  },
  {
   "cell_type": "markdown",
   "id": "e01231ef",
   "metadata": {},
   "source": [
    "## 🔍 Sample Values by Column (patent.tsv)"
   ]
  },
  {
   "cell_type": "code",
   "execution_count": null,
   "id": "855e72ec",
   "metadata": {},
   "outputs": [],
   "source": [
    "for col in df_patent.columns:\n",
    "    print(f\"\\n🔍 Sample values for column: {col}\")\n",
    "    print(df_patent[col].dropna().unique()[:5])"
   ]
  },
  {
   "cell_type": "markdown",
   "id": "8db20380",
   "metadata": {},
   "source": [
    "## 🔍 Sample Values by Column (abstract.tsv)"
   ]
  },
  {
   "cell_type": "code",
   "execution_count": null,
   "id": "c9218bf7",
   "metadata": {},
   "outputs": [],
   "source": [
    "for col in df_abstract.columns:\n",
    "    print(f\"\\n🔍 Sample values for column: {col}\")\n",
    "    print(df_abstract[col].dropna().unique()[:5])"
   ]
  }
 ],
 "metadata": {
  "kernelspec": {
   "display_name": "venv",
   "language": "python",
   "name": "python3"
  },
  "language_info": {
   "codemirror_mode": {
    "name": "ipython",
    "version": 3
   },
   "file_extension": ".py",
   "mimetype": "text/x-python",
   "name": "python",
   "nbconvert_exporter": "python",
   "pygments_lexer": "ipython3",
   "version": "3.9.6"
  }
 },
 "nbformat": 4,
 "nbformat_minor": 5
}
